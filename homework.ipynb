{
 "cells": [
  {
   "cell_type": "code",
   "execution_count": 1,
   "metadata": {},
   "outputs": [
    {
     "name": "stdout",
     "output_type": "stream",
     "text": [
      "[([1., 2.], [255,   0,   0]) ([3., 4.], [  0, 255,   0])\n",
      " ([5., 6.], [  0,   0, 255])]\n"
     ]
    }
   ],
   "source": [
    "##51\n",
    "import numpy as np\n",
    "\n",
    "dtype = np.dtype([('position', '2f4'), ('color', '3i4')])\n",
    "\n",
    "arr = np.array([((1.0, 2.0), (255, 0, 0)),\n",
    "                ((3.0, 4.0), (0, 255, 0)),\n",
    "                ((5.0, 6.0), (0, 0, 255))], dtype=dtype)\n",
    "\n",
    "print(arr)\n"
   ]
  },
  {
   "cell_type": "code",
   "execution_count": 2,
   "metadata": {},
   "outputs": [
    {
     "name": "stdout",
     "output_type": "stream",
     "text": [
      "[0.75830652 0.57567706 0.74821025 0.59602108 0.41726932 0.56637011\n",
      " 0.10005963 0.06520208 0.52061349 0.37143118 0.28756038 0.41611062\n",
      " 0.66444407 0.50403831 0.5123643  0.68115909 0.48320266 0.74020854\n",
      " 0.47263647 0.46419042 0.35636516 0.48090555 0.20724206 0.52202778\n",
      " 0.65459362 0.90493379 1.08779073 0.91731345 0.6337641  0.61048335\n",
      " 0.79040452 0.55702138 0.186632   0.24707032 0.77075132 0.83356216\n",
      " 0.23050017 0.71393524 0.53569112 0.45548125 0.73515288 0.68384626\n",
      " 0.06986125 0.63715342 0.53612045 0.48169791 0.95682292 0.22480161\n",
      " 0.23259767 0.50287568 0.64409564 0.28051585 0.26507975 0.78885159\n",
      " 0.38290221 0.53740047 0.20758077 0.45582561 0.52036577 0.71868665\n",
      " 0.63284487 0.25682781 0.78458287 0.56798466 0.9763105  0.53948636\n",
      " 0.85521904 0.36637933 0.22996063 0.52446696 0.386239   0.73773154\n",
      " 0.89085058 0.2741114  0.50354447 0.8477072  0.7425888  0.60989504\n",
      " 0.52803666 0.489773   0.32684165 0.7359656  0.81337011 0.38607436\n",
      " 0.19069065 0.43961848 0.85143238 0.53648402 0.36157339 1.01016785\n",
      " 0.60676106 0.82326732 0.77494422 0.32282059 0.26824518 0.23512342\n",
      " 0.78939353 0.79603388 0.81352502]\n"
     ]
    }
   ],
   "source": [
    "##52\n",
    "import numpy as np\n",
    "\n",
    "points = np.random.rand(100, 2)\n",
    "\n",
    "distances = np.linalg.norm(points[1:] - points[:-1], axis=1)\n",
    "\n",
    "print(distances)\n"
   ]
  },
  {
   "cell_type": "code",
   "execution_count": 3,
   "metadata": {},
   "outputs": [
    {
     "name": "stdout",
     "output_type": "stream",
     "text": [
      "[1 2 3]\n"
     ]
    }
   ],
   "source": [
    "##53\n",
    "import numpy as np\n",
    "\n",
    "arr = np.array([1.2, 2.5, 3.7], dtype=np.float32)\n",
    "\n",
    "arr = arr.astype(np.int32)\n",
    "\n",
    "print(arr)\n"
   ]
  },
  {
   "cell_type": "code",
   "execution_count": 4,
   "metadata": {},
   "outputs": [
    {
     "ename": "FileNotFoundError",
     "evalue": "data.csv not found.",
     "output_type": "error",
     "traceback": [
      "\u001b[1;31m---------------------------------------------------------------------------\u001b[0m",
      "\u001b[1;31mFileNotFoundError\u001b[0m                         Traceback (most recent call last)",
      "Cell \u001b[1;32mIn[4], line 4\u001b[0m\n\u001b[0;32m      1\u001b[0m \u001b[38;5;66;03m##4\u001b[39;00m\n\u001b[0;32m      2\u001b[0m \u001b[38;5;28;01mimport\u001b[39;00m\u001b[38;5;250m \u001b[39m\u001b[38;5;21;01mnumpy\u001b[39;00m\u001b[38;5;250m \u001b[39m\u001b[38;5;28;01mas\u001b[39;00m\u001b[38;5;250m \u001b[39m\u001b[38;5;21;01mnp\u001b[39;00m\n\u001b[1;32m----> 4\u001b[0m arr \u001b[38;5;241m=\u001b[39m \u001b[43mnp\u001b[49m\u001b[38;5;241;43m.\u001b[39;49m\u001b[43mgenfromtxt\u001b[49m\u001b[43m(\u001b[49m\u001b[38;5;124;43m'\u001b[39;49m\u001b[38;5;124;43mdata.csv\u001b[39;49m\u001b[38;5;124;43m'\u001b[39;49m\u001b[43m,\u001b[49m\u001b[43m \u001b[49m\u001b[43mdelimiter\u001b[49m\u001b[38;5;241;43m=\u001b[39;49m\u001b[38;5;124;43m'\u001b[39;49m\u001b[38;5;124;43m,\u001b[39;49m\u001b[38;5;124;43m'\u001b[39;49m\u001b[43m,\u001b[49m\u001b[43m \u001b[49m\u001b[43mfilling_values\u001b[49m\u001b[38;5;241;43m=\u001b[39;49m\u001b[43mnp\u001b[49m\u001b[38;5;241;43m.\u001b[39;49m\u001b[43mnan\u001b[49m\u001b[43m)\u001b[49m\n\u001b[0;32m      6\u001b[0m \u001b[38;5;28mprint\u001b[39m(arr)\n",
      "File \u001b[1;32mc:\\Users\\User\\AppData\\Local\\Programs\\Python\\Python312\\Lib\\site-packages\\numpy\\lib\\_npyio_impl.py:1990\u001b[0m, in \u001b[0;36mgenfromtxt\u001b[1;34m(fname, dtype, comments, delimiter, skip_header, skip_footer, converters, missing_values, filling_values, usecols, names, excludelist, deletechars, replace_space, autostrip, case_sensitive, defaultfmt, unpack, usemask, loose, invalid_raise, max_rows, encoding, ndmin, like)\u001b[0m\n\u001b[0;32m   1988\u001b[0m     fname \u001b[38;5;241m=\u001b[39m os\u001b[38;5;241m.\u001b[39mfspath(fname)\n\u001b[0;32m   1989\u001b[0m \u001b[38;5;28;01mif\u001b[39;00m \u001b[38;5;28misinstance\u001b[39m(fname, \u001b[38;5;28mstr\u001b[39m):\n\u001b[1;32m-> 1990\u001b[0m     fid \u001b[38;5;241m=\u001b[39m \u001b[43mnp\u001b[49m\u001b[38;5;241;43m.\u001b[39;49m\u001b[43mlib\u001b[49m\u001b[38;5;241;43m.\u001b[39;49m\u001b[43m_datasource\u001b[49m\u001b[38;5;241;43m.\u001b[39;49m\u001b[43mopen\u001b[49m\u001b[43m(\u001b[49m\u001b[43mfname\u001b[49m\u001b[43m,\u001b[49m\u001b[43m \u001b[49m\u001b[38;5;124;43m'\u001b[39;49m\u001b[38;5;124;43mrt\u001b[39;49m\u001b[38;5;124;43m'\u001b[39;49m\u001b[43m,\u001b[49m\u001b[43m \u001b[49m\u001b[43mencoding\u001b[49m\u001b[38;5;241;43m=\u001b[39;49m\u001b[43mencoding\u001b[49m\u001b[43m)\u001b[49m\n\u001b[0;32m   1991\u001b[0m     fid_ctx \u001b[38;5;241m=\u001b[39m contextlib\u001b[38;5;241m.\u001b[39mclosing(fid)\n\u001b[0;32m   1992\u001b[0m \u001b[38;5;28;01melse\u001b[39;00m:\n",
      "File \u001b[1;32mc:\\Users\\User\\AppData\\Local\\Programs\\Python\\Python312\\Lib\\site-packages\\numpy\\lib\\_datasource.py:192\u001b[0m, in \u001b[0;36mopen\u001b[1;34m(path, mode, destpath, encoding, newline)\u001b[0m\n\u001b[0;32m    155\u001b[0m \u001b[38;5;250m\u001b[39m\u001b[38;5;124;03m\"\"\"\u001b[39;00m\n\u001b[0;32m    156\u001b[0m \u001b[38;5;124;03mOpen `path` with `mode` and return the file object.\u001b[39;00m\n\u001b[0;32m    157\u001b[0m \n\u001b[1;32m   (...)\u001b[0m\n\u001b[0;32m    188\u001b[0m \n\u001b[0;32m    189\u001b[0m \u001b[38;5;124;03m\"\"\"\u001b[39;00m\n\u001b[0;32m    191\u001b[0m ds \u001b[38;5;241m=\u001b[39m DataSource(destpath)\n\u001b[1;32m--> 192\u001b[0m \u001b[38;5;28;01mreturn\u001b[39;00m \u001b[43mds\u001b[49m\u001b[38;5;241;43m.\u001b[39;49m\u001b[43mopen\u001b[49m\u001b[43m(\u001b[49m\u001b[43mpath\u001b[49m\u001b[43m,\u001b[49m\u001b[43m \u001b[49m\u001b[43mmode\u001b[49m\u001b[43m,\u001b[49m\u001b[43m \u001b[49m\u001b[43mencoding\u001b[49m\u001b[38;5;241;43m=\u001b[39;49m\u001b[43mencoding\u001b[49m\u001b[43m,\u001b[49m\u001b[43m \u001b[49m\u001b[43mnewline\u001b[49m\u001b[38;5;241;43m=\u001b[39;49m\u001b[43mnewline\u001b[49m\u001b[43m)\u001b[49m\n",
      "File \u001b[1;32mc:\\Users\\User\\AppData\\Local\\Programs\\Python\\Python312\\Lib\\site-packages\\numpy\\lib\\_datasource.py:529\u001b[0m, in \u001b[0;36mDataSource.open\u001b[1;34m(self, path, mode, encoding, newline)\u001b[0m\n\u001b[0;32m    526\u001b[0m     \u001b[38;5;28;01mreturn\u001b[39;00m _file_openers[ext](found, mode\u001b[38;5;241m=\u001b[39mmode,\n\u001b[0;32m    527\u001b[0m                               encoding\u001b[38;5;241m=\u001b[39mencoding, newline\u001b[38;5;241m=\u001b[39mnewline)\n\u001b[0;32m    528\u001b[0m \u001b[38;5;28;01melse\u001b[39;00m:\n\u001b[1;32m--> 529\u001b[0m     \u001b[38;5;28;01mraise\u001b[39;00m \u001b[38;5;167;01mFileNotFoundError\u001b[39;00m(\u001b[38;5;124mf\u001b[39m\u001b[38;5;124m\"\u001b[39m\u001b[38;5;132;01m{\u001b[39;00mpath\u001b[38;5;132;01m}\u001b[39;00m\u001b[38;5;124m not found.\u001b[39m\u001b[38;5;124m\"\u001b[39m)\n",
      "\u001b[1;31mFileNotFoundError\u001b[0m: data.csv not found."
     ]
    }
   ],
   "source": [
    "##54\n",
    "\n",
    "import numpy as np\n",
    "\n",
    "arr = np.genfromtxt('data.csv', delimiter=',', filling_values=np.nan)\n",
    "\n",
    "print(arr)\n"
   ]
  },
  {
   "cell_type": "code",
   "execution_count": 5,
   "metadata": {},
   "outputs": [
    {
     "name": "stdout",
     "output_type": "stream",
     "text": [
      "Index: (0,), Value: 10\n",
      "Index: (1,), Value: 20\n",
      "Index: (2,), Value: 30\n",
      "Index: (3,), Value: 40\n"
     ]
    }
   ],
   "source": [
    "##55\n",
    "import numpy as np\n",
    "\n",
    "arr = np.array([10, 20, 30, 40])\n",
    "\n",
    "for idx, value in np.ndenumerate(arr):\n",
    "    print(f\"Index: {idx}, Value: {value}\")\n",
    "\n"
   ]
  },
  {
   "cell_type": "code",
   "execution_count": 6,
   "metadata": {},
   "outputs": [
    {
     "name": "stdout",
     "output_type": "stream",
     "text": [
      "[[-1.42512257  0.25916003  2.12699184  0.27214671 -0.36990388]\n",
      " [-0.62402603  2.05588451  0.16026236  0.35223506 -1.37134282]\n",
      " [-0.82664611 -0.16248721  0.276253    1.65882664  0.35073155]\n",
      " [ 1.21390799  0.26538213 -0.42809609 -2.0868538  -0.6428009 ]\n",
      " [ 0.05138662  0.11466407 -0.70930943 -0.54639392 -0.08516594]]\n"
     ]
    }
   ],
   "source": [
    "##56\n",
    "import numpy as np\n",
    "\n",
    "mean = 0\n",
    "std_dev = 1\n",
    "shape = (5, 5)\n",
    "\n",
    "gaussian_array = np.random.normal(mean, std_dev, shape)\n",
    "\n",
    "print(gaussian_array)\n"
   ]
  },
  {
   "cell_type": "code",
   "execution_count": 7,
   "metadata": {},
   "outputs": [
    {
     "name": "stdout",
     "output_type": "stream",
     "text": [
      "[[0. 0. 0. 0. 1.]\n",
      " [0. 0. 0. 0. 0.]\n",
      " [0. 0. 0. 0. 0.]\n",
      " [0. 0. 0. 0. 0.]\n",
      " [1. 1. 1. 0. 1.]]\n"
     ]
    }
   ],
   "source": [
    "##57\n",
    "import numpy as np\n",
    "\n",
    "array = np.zeros((5, 5))\n",
    "\n",
    "p = 5\n",
    "\n",
    "indices = np.random.choice(array.size, p, replace=False)\n",
    "np.put(array, indices, 1)\n",
    "\n",
    "print(array)\n"
   ]
  },
  {
   "cell_type": "code",
   "execution_count": null,
   "metadata": {},
   "outputs": [],
   "source": [
    "##58\n",
    "import numpy as np\n",
    "\n",
    "matrix = np.random.rand(3, 4)\n",
    "\n",
    "\n",
    "matrix_centered = matrix - matrix.mean(axis=1, keepdims=True)\n",
    "\n",
    "print(matrix_centered)\n"
   ]
  },
  {
   "cell_type": "code",
   "execution_count": null,
   "metadata": {},
   "outputs": [],
   "source": [
    "##59\n",
    "import numpy as np\n",
    "\n",
    "array = np.array([[1, 2, 3], [4, 5, 6], [7, 8, 9]])\n",
    "\n",
    "sorted_array = array[array[:, 1].argsort()]\n",
    "\n",
    "print(sorted_array)\n"
   ]
  },
  {
   "cell_type": "code",
   "execution_count": null,
   "metadata": {},
   "outputs": [],
   "source": [
    "##60\n",
    "import numpy as np\n",
    "\n",
    "array = np.array([[1, np.nan, 3], [4, np.nan, 6], [7, np.nan, 9]])\n",
    "\n",
    "null_columns = np.any(np.isnan(array), axis=0)\n",
    "\n",
    "print(null_columns)  \n"
   ]
  },
  {
   "cell_type": "code",
   "execution_count": null,
   "metadata": {},
   "outputs": [],
   "source": [
    "##61\n",
    "import numpy as np\n",
    "\n",
    "arr = np.array([10, 20, 30, 40, 50])\n",
    "\n",
    "target = 32\n",
    "nearest_value = arr[np.abs(arr - target).argmin()]\n",
    "\n",
    "print(nearest_value)\n"
   ]
  },
  {
   "cell_type": "code",
   "execution_count": null,
   "metadata": {},
   "outputs": [],
   "source": [
    "##62\n",
    "import numpy as np\n",
    "\n",
    "arr1 = np.array([[1, 2, 3]])\n",
    "arr2 = np.array([[4], [5], [6]])\n",
    "\n",
    "for x, y in np.nditer([arr1, arr2]):\n",
    "    print(x + y)\n"
   ]
  },
  {
   "cell_type": "code",
   "execution_count": null,
   "metadata": {},
   "outputs": [],
   "source": [
    "##63\n",
    "import numpy as np\n",
    "\n",
    "class NamedArray(np.ndarray):\n",
    "    def __new__(cls, shape, dtype, name):\n",
    "        obj = super().__new__(cls, shape, dtype)\n",
    "        obj.name = name\n",
    "        return obj\n",
    "\n",
    "arr = NamedArray((2, 2), dtype=int, name=\"MyArray\")\n",
    "\n",
    "print(arr.name)  \n"
   ]
  },
  {
   "cell_type": "code",
   "execution_count": null,
   "metadata": {},
   "outputs": [],
   "source": [
    "##64\n",
    "import numpy as np\n",
    "\n",
    "vec = np.array([0, 0, 0, 0, 0])\n",
    "\n",
    "indices = np.array([1, 3, 4])\n",
    "\n",
    "np.add.at(vec, indices, 1)\n",
    "\n",
    "print(vec)\n"
   ]
  },
  {
   "cell_type": "code",
   "execution_count": null,
   "metadata": {},
   "outputs": [],
   "source": [
    "##65\n",
    "import numpy as np\n",
    "\n",
    "X = np.array([1, 2, 3])\n",
    "I = np.array([0, 2, 1])\n",
    "F = np.zeros(3)\n",
    "\n",
    "np.add.at(F, I, X)\n",
    "\n",
    "print(F)\n"
   ]
  },
  {
   "cell_type": "code",
   "execution_count": null,
   "metadata": {},
   "outputs": [],
   "source": [
    "##66\n",
    "import numpy as np\n",
    "\n",
    "w, h = 5, 5\n",
    "image = np.random.randint(0, 256, (w, h, 3), dtype=np.uint8)\n",
    "\n",
    "reshaped_image = image.reshape((-1, 3))\n",
    "\n",
    "unique_colors = np.unique(reshaped_image, axis=0)\n",
    "\n",
    "print(len(unique_colors))  \n"
   ]
  },
  {
   "cell_type": "code",
   "execution_count": null,
   "metadata": {},
   "outputs": [],
   "source": [
    "##67\n",
    "import numpy as np\n",
    "\n",
    "array = np.random.rand(2, 3, 4, 5)\n",
    "\n",
    "sum_result = array.sum(axis=(-2, -1))\n",
    "\n",
    "print(sum_result)\n"
   ]
  },
  {
   "cell_type": "code",
   "execution_count": null,
   "metadata": {},
   "outputs": [],
   "source": [
    "##68\n",
    "import numpy as np\n",
    "\n",
    "D = np.array([1, 2, 3, 4, 5])\n",
    "S = np.array([0, 1, 0, 1, 0])\n",
    "\n",
    "unique_indices = np.unique(S)\n",
    "means = [D[S == idx].mean() for idx in unique_indices]\n",
    "\n",
    "print(means)\n"
   ]
  },
  {
   "cell_type": "code",
   "execution_count": null,
   "metadata": {},
   "outputs": [],
   "source": [
    "##69\n",
    "import numpy as np\n",
    "\n",
    "A = np.array([[1, 2], [3, 4]])\n",
    "B = np.array([[5, 6], [7, 8]])\n",
    "\n",
    "dot_product = np.dot(A, B)\n",
    "diagonal = np.diagonal(dot_product)\n",
    "\n",
    "print(diagonal)\n"
   ]
  },
  {
   "cell_type": "code",
   "execution_count": null,
   "metadata": {},
   "outputs": [],
   "source": [
    "##70\n",
    "import numpy as np\n",
    "\n",
    "arr = np.array([1, 2, 3, 4, 5])\n",
    "\n",
    "new_arr = np.zeros(len(arr) * 4 - 3, dtype=int)\n",
    "new_arr[::4] = arr\n",
    "\n",
    "print(new_arr)\n"
   ]
  },
  {
   "cell_type": "code",
   "execution_count": null,
   "metadata": {},
   "outputs": [],
   "source": [
    "##71\n",
    "import numpy as np\n",
    "\n",
    "array1 = np.random.rand(5, 5, 3)\n",
    "array2 = np.random.rand(5, 5)\n",
    "\n",
    "result = array1 * array2[:, :, None]\n",
    "\n",
    "print(result)\n"
   ]
  },
  {
   "cell_type": "code",
   "execution_count": null,
   "metadata": {},
   "outputs": [],
   "source": [
    "##72\n",
    "import numpy as np\n",
    "\n",
    "array = np.array([[1, 2, 3, 4, 5],\n",
    "                  [6, 7, 8, 9, 10],\n",
    "                  [11, 12, 13, 14, 15],\n",
    "                  [16, 17, 18, 19, 20],\n",
    "                  [21, 22, 23, 24, 25]])\n",
    "\n",
    "array[[1, 3]] = array[[3, 1]]\n",
    "\n",
    "print(array)\n"
   ]
  },
  {
   "cell_type": "code",
   "execution_count": null,
   "metadata": {},
   "outputs": [],
   "source": [
    "##73\n",
    "import numpy as np\n",
    "\n",
    "triangles = np.array([\n",
    "    [(0, 0), (1, 0), (0, 1)],\n",
    "    [(1, 0), (2, 0), (1, 1)],\n",
    "    [(0, 1), (1, 1), (0, 2)],\n",
    "    [(2, 0), (3, 0), (2, 1)],\n",
    "    [(1, 1), (2, 1), (1, 2)],\n",
    "    [(0, 2), (1, 2), (0, 3)],\n",
    "    [(3, 0), (4, 0), (3, 1)],\n",
    "    [(2, 1), (3, 1), (2, 2)],\n",
    "    [(1, 2), (2, 2), (1, 3)],\n",
    "    [(3, 1), (4, 1), (3, 2)],\n",
    "])\n",
    "\n",
    "edges = set()\n",
    "for triangle in triangles:\n",
    "    for i in range(3):\n",
    "        edge = tuple(sorted([triangle[i], triangle[(i + 1) % 3]]))\n",
    "        edges.add(edge)\n",
    "\n",
    "print(np.array(list(edges)))\n"
   ]
  },
  {
   "cell_type": "code",
   "execution_count": null,
   "metadata": {},
   "outputs": [],
   "source": [
    "##74\n",
    "import numpy as np\n",
    "\n",
    "C = np.array([0, 2, 3, 4])\n",
    "\n",
    "A = np.repeat(np.arange(len(C)), C)\n",
    "print(A)\n"
   ]
  },
  {
   "cell_type": "code",
   "execution_count": null,
   "metadata": {},
   "outputs": [],
   "source": [
    "##75\n",
    "import numpy as np\n",
    "\n",
    "def sliding_window_avg(arr, window_size):\n",
    "    return np.convolve(arr, np.ones(window_size)/window_size, mode='valid')\n",
    "\n",
    "arr = np.array([1, 2, 3, 4, 5, 6, 7])\n",
    "window_size = 3\n",
    "print(sliding_window_avg(arr, window_size))\n"
   ]
  },
  {
   "cell_type": "code",
   "execution_count": null,
   "metadata": {},
   "outputs": [],
   "source": [
    "##76\n",
    "import numpy as np\n",
    "\n",
    "Z = np.array([1, 2, 3, 4, 5, 6, 7, 8, 9, 10, 11, 12, 13, 14])\n",
    "window_size = 3\n",
    "\n",
    "result = np.array([Z[i:i + window_size] for i in range(len(Z) - window_size + 1)])\n",
    "\n",
    "print(result)\n"
   ]
  },
  {
   "cell_type": "code",
   "execution_count": null,
   "metadata": {},
   "outputs": [],
   "source": [
    "##77\n",
    "import numpy as np\n",
    "\n",
    "bool_array = np.array([True, False, True])\n",
    "bool_array = ~bool_array\n",
    "print(bool_array)\n",
    "\n",
    "float_array = np.array([1.2, -3.4, 5.6])\n",
    "float_array = -float_array\n",
    "print(float_array)\n"
   ]
  },
  {
   "cell_type": "code",
   "execution_count": null,
   "metadata": {},
   "outputs": [],
   "source": [
    "##78\n",
    "import numpy as np\n",
    "\n",
    "def point_to_line_distance(p, P0, P1):\n",
    "    return np.abs(np.cross(P1 - P0, P0 - p)) / np.linalg.norm(P1 - P0)\n",
    "\n",
    "P0 = np.array([[1, 1], [3, 3], [5, 5]])\n",
    "P1 = np.array([[2, 2], [4, 4], [6, 6]])\n",
    "p = np.array([3, 1])\n",
    "\n",
    "distances = [point_to_line_distance(p, p0, p1) for p0, p1 in zip(P0, P1)]\n",
    "print(distances)\n"
   ]
  },
  {
   "cell_type": "code",
   "execution_count": null,
   "metadata": {},
   "outputs": [],
   "source": [
    "##79\n",
    "import numpy as np\n",
    "\n",
    "def point_to_line_distance(p, P0, P1):\n",
    "    return np.abs(np.cross(P1 - P0, P0 - p)) / np.linalg.norm(P1 - P0)\n",
    "\n",
    "P0 = np.array([[1, 1], [3, 3], [5, 5]])\n",
    "P1 = np.array([[2, 2], [4, 4], [6, 6]])\n",
    "P = np.array([[3, 1], [2, 3]])\n",
    "\n",
    "distances = [[point_to_line_distance(p, p0, p1) for p0, p1 in zip(P0, P1)] for p in P]\n",
    "print(np.array(distances))\n"
   ]
  },
  {
   "cell_type": "code",
   "execution_count": null,
   "metadata": {},
   "outputs": [],
   "source": [
    "##80\n",
    "import numpy as np\n",
    "\n",
    "def extract_subarray(arr, center, shape, fill_value=0):\n",
    "    start = np.array(center) - np.array(shape) // 2\n",
    "    end = start + shape\n",
    "    slices = tuple(slice(max(s, 0), min(e, arr.shape[i])) for i, (s, e) in enumerate(zip(start, end)))\n",
    "    subarray = np.zeros(shape, dtype=arr.dtype) + fill_value\n",
    "    subarray[tuple(slice(max(0, s), e) for s, e in zip(start, end))] = arr[slices]\n",
    "    return subarray\n",
    "\n",
    "arr = np.array([[1, 2, 3], [4, 5, 6], [7, 8, 9]])\n",
    "subarray = extract_subarray(arr, (1, 1), (3, 3), fill_value=0)\n",
    "print(subarray)\n"
   ]
  },
  {
   "cell_type": "code",
   "execution_count": null,
   "metadata": {},
   "outputs": [],
   "source": [
    "##81\n",
    "import numpy as np\n",
    "\n",
    "Z = np.array([1, 2, 3, 4, 5, 6, 7, 8, 9, 10, 11, 12, 13, 14])\n",
    "R = np.array([Z[i:i+4] for i in range(len(Z) - 3)])\n",
    "print(R)\n"
   ]
  },
  {
   "cell_type": "code",
   "execution_count": null,
   "metadata": {},
   "outputs": [],
   "source": [
    "##82\n",
    "import numpy as np\n",
    "\n",
    "A = np.array([[1, 2], [3, 4], [5, 6]])\n",
    "rank = np.linalg.matrix_rank(A)\n",
    "print(rank)\n"
   ]
  },
  {
   "cell_type": "code",
   "execution_count": null,
   "metadata": {},
   "outputs": [],
   "source": [
    "##83\n",
    "import numpy as np\n",
    "from scipy import stats\n",
    "\n",
    "arr = np.array([1, 2, 2, 3, 3, 3, 4, 4, 4, 4])\n",
    "mode = stats.mode(arr)[0][0]\n",
    "print(mode)\n"
   ]
  },
  {
   "cell_type": "code",
   "execution_count": null,
   "metadata": {},
   "outputs": [],
   "source": [
    "##84\n",
    "import numpy as np\n",
    "\n",
    "matrix = np.random.rand(10, 10)\n",
    "blocks = np.lib.stride_tricks.as_strided(matrix, shape=(8, 8, 3, 3), strides=matrix.strides * 2)\n",
    "print(blocks)\n"
   ]
  },
  {
   "cell_type": "code",
   "execution_count": null,
   "metadata": {},
   "outputs": [],
   "source": [
    "##85\n",
    "import numpy as np\n",
    "\n",
    "class SymmetricArray(np.ndarray):\n",
    "    def __setitem__(self, index, value):\n",
    "        i, j = index\n",
    "        if i != j:\n",
    "            super().__setitem__((j, i), value)\n",
    "        super().__setitem__(index, value)\n",
    "\n",
    "Z = np.zeros((3, 3), dtype=int).view(SymmetricArray)\n",
    "Z[0, 1] = 5\n",
    "print(Z)\n"
   ]
  },
  {
   "cell_type": "code",
   "execution_count": null,
   "metadata": {},
   "outputs": [],
   "source": [
    "##86\n",
    "import numpy as np\n",
    "\n",
    "matrices = np.random.rand(5, 3, 3)\n",
    "vectors = np.random.rand(5, 3, 1)\n",
    "\n",
    "result = np.sum([np.dot(m, v) for m, v in zip(matrices, vectors)], axis=0)\n",
    "print(result)\n"
   ]
  },
  {
   "cell_type": "code",
   "execution_count": null,
   "metadata": {},
   "outputs": [],
   "source": [
    "##87\n",
    "import numpy as np\n",
    "\n",
    "matrix = np.random.rand(16, 16)\n",
    "block_size = 4\n",
    "\n",
    "block_sum = matrix.reshape(4, 4, 4, 4).sum(axis=(2, 3))\n",
    "print(block_sum)\n"
   ]
  },
  {
   "cell_type": "code",
   "execution_count": null,
   "metadata": {},
   "outputs": [],
   "source": [
    "##88\n",
    "import numpy as np\n",
    "\n",
    "def game_of_life(grid, steps):\n",
    "    for _ in range(steps):\n",
    "        neighbor_count = sum(np.roll(np.roll(grid, i, axis=0), j, axis=1) for i in [-1, 0, 1] for j in [-1, 0, 1])\n",
    "        grid = (neighbor_count == 3) | (grid & (neighbor_count == 2))\n",
    "    return grid\n",
    "\n",
    "grid = np.random.randint(0, 2, (5, 5))\n",
    "steps = 10\n",
    "grid_after = game_of_life(grid, steps)\n",
    "print(grid_after)\n"
   ]
  },
  {
   "cell_type": "code",
   "execution_count": null,
   "metadata": {},
   "outputs": [],
   "source": [
    "##89\n",
    "import numpy as np\n",
    "\n",
    "Z = np.random.randint(0, 100, 10)\n",
    "n = 3\n",
    "print(np.sort(Z)[-n:])  \n",
    "print(Z[np.argpartition(-Z, n)[:n]])  \n",
    "\n"
   ]
  },
  {
   "cell_type": "code",
   "execution_count": null,
   "metadata": {},
   "outputs": [],
   "source": [
    "##90\n",
    "from itertools import product\n",
    "\n",
    "arrays = [np.array([1, 2]), np.array([3, 4]), np.array([5, 6])]\n",
    "cartesian_prod = np.array(list(product(*arrays)))\n",
    "print(cartesian_prod)\n"
   ]
  },
  {
   "cell_type": "code",
   "execution_count": null,
   "metadata": {},
   "outputs": [],
   "source": [
    "##91\n",
    "Z = np.array([(1, 2.0, 'Hello'), (2, 3.0, 'World')],\n",
    "             dtype=[('x', int), ('y', float), ('z', 'U10')])\n",
    "print(Z)\n"
   ]
  },
  {
   "cell_type": "code",
   "execution_count": null,
   "metadata": {},
   "outputs": [],
   "source": [
    "##92\n",
    "Z = np.random.rand(5)\n",
    "print(Z ** 3)           \n",
    "print(np.power(Z, 3))   \n",
    "print(np.einsum('i,i,i->i', Z, Z, Z))  \n"
   ]
  },
  {
   "cell_type": "code",
   "execution_count": null,
   "metadata": {},
   "outputs": [],
   "source": [
    "##93\n",
    "A = np.random.randint(0, 5, (8, 3))\n",
    "B = np.random.randint(0, 5, (2, 2))\n",
    "mask = np.all(np.isin(A[:, None, :], B), axis=(1, 2))\n",
    "print(A[mask])\n"
   ]
  },
  {
   "cell_type": "code",
   "execution_count": null,
   "metadata": {},
   "outputs": [],
   "source": [
    "##94\n",
    "Z = np.random.randint(0, 5, (10, 3))\n",
    "print(Z[~(Z[:, 0] == Z[:, 1]) | (Z[:, 1] == Z[:, 2])])\n"
   ]
  },
  {
   "cell_type": "code",
   "execution_count": null,
   "metadata": {},
   "outputs": [],
   "source": [
    "##95\n",
    "Z = np.array([3, 7, 8])\n",
    "print(((Z[:, None] & (1 << np.arange(8))) > 0).astype(int))\n"
   ]
  },
  {
   "cell_type": "code",
   "execution_count": null,
   "metadata": {},
   "outputs": [],
   "source": [
    "##96\n",
    "Z = np.random.randint(0, 5, (6, 3))\n",
    "print(np.unique(Z, axis=0))\n"
   ]
  },
  {
   "cell_type": "code",
   "execution_count": null,
   "metadata": {},
   "outputs": [],
   "source": [
    "##97\n",
    "A = np.array([1, 2, 3])\n",
    "B = np.array([4, 5, 6])\n",
    "\n",
    "inner = np.einsum('i,i->', A, B)\n",
    "outer = np.einsum('i,j->ij', A, B)\n",
    "sum_ = np.einsum('i->', A)\n",
    "mul = np.einsum('i,i->i', A, B)\n",
    "\n",
    "print(inner, outer, sum_, mul)\n"
   ]
  },
  {
   "cell_type": "code",
   "execution_count": null,
   "metadata": {},
   "outputs": [],
   "source": [
    "##98\n",
    "X, Y = np.random.rand(10), np.random.rand(10)\n",
    "from scipy.interpolate import interp1d\n",
    "\n",
    "distances = np.sqrt(np.diff(X)**2 + np.diff(Y)**2)\n",
    "cumdist = np.insert(np.cumsum(distances), 0, 0)\n",
    "f_x = interp1d(cumdist, X, kind='linear')\n",
    "f_y = interp1d(cumdist, Y, kind='linear')\n",
    "\n",
    "uniform_samples = np.linspace(0, cumdist[-1], 10)\n",
    "X_new, Y_new = f_x(uniform_samples), f_y(uniform_samples)\n",
    "print(X_new, Y_new)\n"
   ]
  },
  {
   "cell_type": "code",
   "execution_count": null,
   "metadata": {},
   "outputs": [],
   "source": [
    "##99\n",
    "X = np.random.randint(0, 4, (10, 3))\n",
    "n = 5\n",
    "valid_rows = np.all(X >= 0, axis=1) & (np.sum(X, axis=1) == n)\n",
    "print(X[valid_rows])\n"
   ]
  },
  {
   "cell_type": "code",
   "execution_count": null,
   "metadata": {},
   "outputs": [],
   "source": [
    "##100\n",
    "X = np.random.randn(1000)\n",
    "N = 1000\n",
    "means = np.random.choice(X, (N, X.size), replace=True).mean(axis=1)\n",
    "conf_int = np.percentile(means, [2.5, 97.5])\n",
    "print(conf_int)\n"
   ]
  },
  {
   "cell_type": "code",
   "execution_count": null,
   "metadata": {},
   "outputs": [],
   "source": []
  },
  {
   "cell_type": "code",
   "execution_count": null,
   "metadata": {},
   "outputs": [],
   "source": []
  },
  {
   "cell_type": "code",
   "execution_count": null,
   "metadata": {},
   "outputs": [],
   "source": []
  },
  {
   "cell_type": "code",
   "execution_count": null,
   "metadata": {},
   "outputs": [],
   "source": []
  }
 ],
 "metadata": {
  "kernelspec": {
   "display_name": "Python 3",
   "language": "python",
   "name": "python3"
  },
  "language_info": {
   "codemirror_mode": {
    "name": "ipython",
    "version": 3
   },
   "file_extension": ".py",
   "mimetype": "text/x-python",
   "name": "python",
   "nbconvert_exporter": "python",
   "pygments_lexer": "ipython3",
   "version": "3.12.8"
  }
 },
 "nbformat": 4,
 "nbformat_minor": 2
}
