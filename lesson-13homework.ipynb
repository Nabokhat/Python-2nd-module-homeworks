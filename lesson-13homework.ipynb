{
 "cells": [
  {
   "cell_type": "code",
   "execution_count": 5,
   "metadata": {},
   "outputs": [
    {
     "name": "stdout",
     "output_type": "stream",
     "text": [
      "Timezone Converter\n",
      "The converted time in Europe/London is: 2025-03-12 07:21:00\n"
     ]
    }
   ],
   "source": [
    "###4Timezone Converter: Create a program that allows the user to enter a date and time along with their current timezone, and then convert and print the date and time in another timezone of their choice. \n",
    "\n",
    "from datetime import datetime\n",
    "import pytz\n",
    "london_tz = pytz.timezone(\"Europe/London\")\n",
    "tashkent_tz = pytz.timezone(\"Asia/Tashkent\")\n",
    "\n",
    "def convert_timezone(date_str, time_str, current_timezone, target_timezone):\n",
    "    date_time_str = f\"{date_str} {time_str}\"\n",
    "    fmt = \"%Y-%m-%d %H:%M:%S\"\n",
    "    naive_datetime = datetime.strptime(date_time_str,fmt)\n",
    "\n",
    "    current_tz = pytz.timezone(current_timezone)\n",
    "    local_datetime = current_tz.localize(naive_datetime)\n",
    "\n",
    "    target_tz = pytz.timezone(target_timezone)\n",
    "    target_datetime = local_datetime.astimezone(target_tz)\n",
    "\n",
    "    return target_datetime     \n",
    "print(\"Timezone Converter\")\n",
    "date = input(\"Enter the date (YYYY-MM-DD): \")\n",
    "time = input(\"Enter the time (HH:MM:SS): \")\n",
    "current_timezone = input(\"Enter your current timezone\")\n",
    "target_timezone = input(\"Enter the target timezone\")\n",
    "\n",
    "converted_time = convert_timezone(date,time,current_timezone,target_timezone)\n",
    "print(f\"The converted time in {target_timezone} is: {converted_time.strftime('%Y-%m-%d %H:%M:%S')}\")\n",
    "\n",
    "\n",
    "    \n"
   ]
  },
  {
   "cell_type": "code",
   "execution_count": 2,
   "metadata": {},
   "outputs": [
    {
     "name": "stdout",
     "output_type": "stream",
     "text": [
      "The countdown is complete!\n"
     ]
    }
   ],
   "source": [
    "###5Countdown Timer: Implement a countdown timer. Ask the user to input a future date and time, and then continuously print the time remaining until that point in regular intervals (e.g., every second).\n",
    "\n",
    "import time\n",
    "from datetime import datetime\n",
    "\n",
    "def countdown_timer(future_time):\n",
    "    while True:\n",
    "        current_time = datetime.now()\n",
    "\n",
    "        remaining_time = future_time - current_time\n",
    "\n",
    "        if remaining_time.total_seconds() <= 0:\n",
    "            print(\"The countdown is complete!\")\n",
    "            break\n",
    "        \n",
    "        hours = remaining_time.seconds // 3600\n",
    "        minutes = (remaining_time.seconds % 3600) // 60\n",
    "        seconds = remaining_time.seconds % 60\n",
    "\n",
    "        print(f\"Time remaining: {hours:02}:{minutes:02}:{seconds:02}\", end='\\r')\n",
    "\n",
    "        time.sleep(1)\n",
    "\n",
    "future_date_str = input(\"Enter the future date and time (YYYY-MM-DD HH:MM:SS): \")\n",
    "\n",
    "future_time = datetime.strptime(future_date_str, \"%Y-%m-%d %H:%M:%S\")\n",
    "\n",
    "countdown_timer(future_time)\n",
    "\n",
    "\n"
   ]
  },
  {
   "cell_type": "code",
   "execution_count": 5,
   "metadata": {},
   "outputs": [
    {
     "name": "stdout",
     "output_type": "stream",
     "text": [
      "Invalid email address ❌\n"
     ]
    }
   ],
   "source": [
    "##6Email Validator: Write a program that validates email addresses. Ask the user to input an email address, and check if it follows a valid email format.\n",
    "\n",
    "import re\n",
    "\n",
    "def is_valid_email(email):\n",
    "    pattern = r'^[a-zA-Z0-9._%+-]+@[a-zA-Z0-9.-]+\\.[a-zA-Z]{2,}$'\n",
    "    return re.match(pattern, email) is not None\n",
    "\n",
    "email = input(\"Enter an email address: \")\n",
    "\n",
    "if is_valid_email(email):\n",
    "    print(\"Valid email address ✅\")\n",
    "else:\n",
    "    print(\"Invalid email address ❌\")\n"
   ]
  },
  {
   "cell_type": "code",
   "execution_count": null,
   "metadata": {},
   "outputs": [],
   "source": [
    "###1\n",
    "from datetime import datetime\n",
    "\n",
    "def calculate_age():\n",
    "    birthdate = input(\"Enter your birthdate (YYYY-MM-DD): \")\n",
    "    birthdate = datetime.strptime(birthdate, '%Y-%m-%d')\n",
    "\n",
    "    today = datetime.today()\n",
    "\n",
    "    age_years = today.year - birthdate.year\n",
    "    age_months = today.month - birthdate.month\n",
    "    age_days = today.day - birthdate.day\n",
    "\n",
    "    if age_months < 0:\n",
    "        age_years -= 1\n",
    "        age_months += 12\n",
    "    if age_days < 0:\n",
    "        age_months -= 1\n",
    "        previous_month = today.replace(year=today.year, month=today.month-1) if today.month != 1 else today.replace(year=today.year-1, month=12)\n",
    "        age_days += (previous_month.replace(day=1) - today.replace(day=1)).days\n",
    "\n",
    "    print(f\"You are {age_years} years, {age_months} months, and {age_days} days old.\")\n",
    "\n",
    "calculate_age()\n"
   ]
  },
  {
   "cell_type": "code",
   "execution_count": null,
   "metadata": {},
   "outputs": [],
   "source": [
    "###2\n",
    "from datetime import datetime\n",
    "\n",
    "def days_until_birthday():\n",
    "    birthdate = input(\"Enter your birthdate (YYYY-MM-DD): \")\n",
    "    birthdate = datetime.strptime(birthdate, '%Y-%m-%d')\n",
    "\n",
    "    today = datetime.today()\n",
    "\n",
    "    next_birthday = birthdate.replace(year=today.year)\n",
    "\n",
    "    if next_birthday < today:\n",
    "        next_birthday = next_birthday.replace(year=today.year + 1)\n",
    "\n",
    "    days_left = (next_birthday - today).days\n",
    "    print(f\"There are {days_left} days left until your next birthday.\")\n",
    "\n",
    "days_until_birthday()\n"
   ]
  },
  {
   "cell_type": "code",
   "execution_count": null,
   "metadata": {},
   "outputs": [],
   "source": [
    "###3\n",
    "from datetime import datetime, timedelta\n",
    "\n",
    "def meeting_scheduler():\n",
    "    current_time = input(\"Enter current date and time (YYYY-MM-DD HH:MM): \")\n",
    "    current_time = datetime.strptime(current_time, '%Y-%m-%d %H:%M')\n",
    "\n",
    "    hours = int(input(\"Enter meeting duration in hours: \"))\n",
    "    minutes = int(input(\"Enter meeting duration in minutes: \"))\n",
    "\n",
    "    end_time = current_time + timedelta(hours=hours, minutes=minutes)\n",
    "\n",
    "    print(f\"The meeting will end at {end_time.strftime('%Y-%m-%d %H:%M')}.\")\n",
    "\n",
    "meeting_scheduler()\n"
   ]
  },
  {
   "cell_type": "code",
   "execution_count": null,
   "metadata": {},
   "outputs": [],
   "source": [
    "###7\n",
    "import re\n",
    "\n",
    "def phone_number_formatter():\n",
    "    phone_number = input(\"Enter your phone number (digits only): \")\n",
    "\n",
    "    if len(phone_number) == 10 and phone_number.isdigit():\n",
    "        formatted_number = f\"({phone_number[:3]}) {phone_number[3:6]}-{phone_number[6:]}\"\n",
    "        print(f\"Formatted phone number: {formatted_number}\")\n",
    "    else:\n",
    "        print(\"Invalid phone number. Please enter a 10-digit phone number.\")\n",
    "\n",
    "phone_number_formatter()\n"
   ]
  },
  {
   "cell_type": "code",
   "execution_count": null,
   "metadata": {},
   "outputs": [],
   "source": [
    "###8\n",
    "import re\n",
    "\n",
    "def password_strength_checker():\n",
    "    password = input(\"Enter your password: \")\n",
    "\n",
    "    if len(password) < 8:\n",
    "        print(\"Password must be at least 8 characters long.\")\n",
    "    elif not re.search(r'[A-Z]', password):\n",
    "        print(\"Password must contain at least one uppercase letter.\")\n",
    "    elif not re.search(r'[a-z]', password):\n",
    "        print(\"Password must contain at least one lowercase letter.\")\n",
    "    elif not re.search(r'[0-9]', password):\n",
    "        print(\"Password must contain at least one digit.\")\n",
    "    else:\n",
    "        print(\"Password is strong.\")\n",
    "\n",
    "password_strength_checker()\n"
   ]
  },
  {
   "cell_type": "code",
   "execution_count": null,
   "metadata": {},
   "outputs": [],
   "source": [
    "###9\n",
    "def word_finder():\n",
    "    text = input(\"Enter the text: \")\n",
    "    word = input(\"Enter the word to find: \")\n",
    "\n",
    "    occurrences = [i for i in range(len(text)) if text.startswith(word, i)]\n",
    "    if occurrences:\n",
    "        print(f\"Occurrences of '{word}' at indices: {occurrences}\")\n",
    "    else:\n",
    "        print(f\"'{word}' not found in the text.\")\n",
    "\n",
    "word_finder()\n"
   ]
  },
  {
   "cell_type": "code",
   "execution_count": null,
   "metadata": {},
   "outputs": [],
   "source": [
    "###10\n",
    "import re\n",
    "\n",
    "def date_extractor():\n",
    "    text = input(\"Enter the text: \")\n",
    "\n",
    "    date_pattern = r'\\b\\d{4}-\\d{2}-\\d{2}\\b'\n",
    "    dates = re.findall(date_pattern, text)\n",
    "\n",
    "    if dates:\n",
    "        print(f\"Dates found: {', '.join(dates)}\")\n",
    "    else:\n",
    "        print(\"No dates found in the text.\")\n",
    "\n",
    "date_extractor()\n"
   ]
  }
 ],
 "metadata": {
  "kernelspec": {
   "display_name": "Python 3",
   "language": "python",
   "name": "python3"
  },
  "language_info": {
   "codemirror_mode": {
    "name": "ipython",
    "version": 3
   },
   "file_extension": ".py",
   "mimetype": "text/x-python",
   "name": "python",
   "nbconvert_exporter": "python",
   "pygments_lexer": "ipython3",
   "version": "3.12.8"
  }
 },
 "nbformat": 4,
 "nbformat_minor": 2
}
