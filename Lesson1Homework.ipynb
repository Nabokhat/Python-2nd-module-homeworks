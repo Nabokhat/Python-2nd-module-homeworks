{
 "cells": [
  {
   "cell_type": "code",
   "execution_count": 2,
   "metadata": {},
   "outputs": [
    {
     "name": "stdout",
     "output_type": "stream",
     "text": [
      "Perimeter: 12\n",
      "Area: 9\n"
     ]
    }
   ],
   "source": [
    "s = 3\n",
    "perimeter = 4*s\n",
    "area=s**2\n",
    "print(\"Perimeter:\",perimeter)\n",
    "print(\"Area:\", area)"
   ]
  },
  {
   "cell_type": "code",
   "execution_count": 5,
   "metadata": {},
   "outputs": [
    {
     "name": "stdout",
     "output_type": "stream",
     "text": [
      "Circumference: 37.69911184307752\n"
     ]
    }
   ],
   "source": [
    "import math\n",
    "\n",
    "d = 12  \n",
    "\n",
    "circumference = math.pi * d\n",
    "print(\"Circumference:\", circumference)\n",
    "\n"
   ]
  },
  {
   "cell_type": "code",
   "execution_count": 7,
   "metadata": {},
   "outputs": [
    {
     "name": "stdout",
     "output_type": "stream",
     "text": [
      "Mean: 33.0\n"
     ]
    }
   ],
   "source": [
    "a = 55\n",
    "b = 11 \n",
    "\n",
    "mean = (a + b) / 2\n",
    "print(\"Mean:\", mean)\n"
   ]
  },
  {
   "cell_type": "code",
   "execution_count": 8,
   "metadata": {},
   "outputs": [
    {
     "name": "stdout",
     "output_type": "stream",
     "text": [
      "Sum: 11.0\n",
      "Product: 30.0\n",
      "Square of a: 25.0\n",
      "Square of b: 36.0\n"
     ]
    }
   ],
   "source": [
    "def calculate_operations(a, b):\n",
    "    sum_ab = a + b\n",
    "    product_ab = a * b\n",
    "    square_a = a * a\n",
    "    square_b = b * b\n",
    "    \n",
    "    return sum_ab, product_ab, square_a, square_b\n",
    "\n",
    "a = float(input(\"Enter the first number (a): \"))\n",
    "b = float(input(\"Enter the second number (b): \"))\n",
    "\n",
    "sum_result, product_result, square_a, square_b = calculate_operations(a, b)\n",
    "print(\"Sum:\", sum_result)\n",
    "print(\"Product:\", product_result)\n",
    "print(\"Square of a:\", square_a)\n",
    "print(\"Square of b:\", square_b)\n"
   ]
  }
 ],
 "metadata": {
  "kernelspec": {
   "display_name": "Python 3",
   "language": "python",
   "name": "python3"
  },
  "language_info": {
   "codemirror_mode": {
    "name": "ipython",
    "version": 3
   },
   "file_extension": ".py",
   "mimetype": "text/x-python",
   "name": "python",
   "nbconvert_exporter": "python",
   "pygments_lexer": "ipython3",
   "version": "3.12.8"
  }
 },
 "nbformat": 4,
 "nbformat_minor": 2
}
