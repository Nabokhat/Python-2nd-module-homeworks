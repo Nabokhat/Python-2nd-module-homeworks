{
 "cells": [
  {
   "cell_type": "code",
   "execution_count": 1,
   "metadata": {},
   "outputs": [
    {
     "name": "stdout",
     "output_type": "stream",
     "text": [
      "Hello, Naboxat! You are 32 years old.\n"
     ]
    }
   ],
   "source": [
    "from datetime import datetime\n",
    "\n",
    "def calculate_age(year_of_birth):\n",
    "    current_year = datetime.now().year\n",
    "    return current_year - year_of_birth\n",
    "\n",
    "name = input(\"Enter your name: \")\n",
    "year_of_birth = int(input(\"Enter your year of birth: \"))\n",
    "age = calculate_age(year_of_birth)\n",
    "\n",
    "print(f\"Hello, {name}! You are {age} years old.\")\n"
   ]
  },
  {
   "cell_type": "code",
   "execution_count": 5,
   "metadata": {},
   "outputs": [
    {
     "name": "stdout",
     "output_type": "stream",
     "text": [
      "['Tesla']\n"
     ]
    }
   ],
   "source": [
    "from collections import Counter\n",
    "\n",
    "txt = 'LMaasleitbtui'\n",
    "car_names = ['Lamborghini', 'Mazda', 'Audi', 'Mercedes', 'Tesla', 'Buick', 'Toyota', 'Subaru', 'Lexus']\n",
    "\n",
    "txt_counter = Counter(txt.lower())\n",
    "\n",
    "def can_form_name(name, txt_counter):\n",
    "    name_counter = Counter(name.lower())\n",
    "    return all(txt_counter[char] >= name_counter[char] for char in name_counter)\n",
    "\n",
    "extracted_car_names = [name for name in car_names if can_form_name(name, txt_counter)]\n",
    "\n",
    "print(extracted_car_names)\n"
   ]
  },
  {
   "cell_type": "code",
   "execution_count": 6,
   "metadata": {},
   "outputs": [
    {
     "name": "stdout",
     "output_type": "stream",
     "text": [
      "['Mazda']\n"
     ]
    }
   ],
   "source": [
    "from collections import Counter\n",
    "\n",
    "\n",
    "txt = 'MsaatmiazD'\n",
    "car_names = ['Lamborghini', 'Mazda', 'Audi', 'Mercedes', 'Tesla', 'Buick', 'Toyota', 'Subaru', 'Lexus']\n",
    "\n",
    "txt_counter = Counter(txt.lower())\n",
    "\n",
    "def can_form_name(name, txt_counter):\n",
    "    name_counter = Counter(name.lower())\n",
    "    return all(txt_counter[char] >= name_counter[char] for char in name_counter)\n",
    "\n",
    "extracted_car_names = [name for name in car_names if can_form_name(name, txt_counter)]\n",
    "\n",
    "print(extracted_car_names)\n"
   ]
  },
  {
   "cell_type": "code",
   "execution_count": 7,
   "metadata": {},
   "outputs": [
    {
     "name": "stdout",
     "output_type": "stream",
     "text": [
      "London\n"
     ]
    }
   ],
   "source": [
    "txt = \"I'am John. I am from London\"\n",
    "\n",
    "words = txt.split()\n",
    "\n",
    "if \"from\" in words:\n",
    "    residence_area = words[words.index(\"from\") + 1]\n",
    "else:\n",
    "    residence_area = \"Not found\"\n",
    "\n",
    "print(residence_area)\n"
   ]
  },
  {
   "cell_type": "code",
   "execution_count": 9,
   "metadata": {},
   "outputs": [
    {
     "name": "stdout",
     "output_type": "stream",
     "text": [
      "Reversed string: rotavele\n"
     ]
    }
   ],
   "source": [
    "# Program to reverse a string\n",
    "user_input = input(\"Enter a string: \")\n",
    "reversed_string = user_input[::-1]\n",
    "print(\"Reversed string:\", reversed_string)\n"
   ]
  },
  {
   "cell_type": "code",
   "execution_count": 10,
   "metadata": {},
   "outputs": [
    {
     "name": "stdout",
     "output_type": "stream",
     "text": [
      "Number of vowels: 3\n"
     ]
    }
   ],
   "source": [
    "#Count the number of vowels in a string\n",
    "user_input = input(\"Enter a string: \")\n",
    "vowels = \"aeiouAEIOU\"\n",
    "count = 0\n",
    "\n",
    "for char in user_input:\n",
    "    if char in vowels:\n",
    "        count += 1\n",
    "\n",
    "print(\"Number of vowels:\", count)\n"
   ]
  },
  {
   "cell_type": "code",
   "execution_count": 11,
   "metadata": {},
   "outputs": [
    {
     "name": "stdout",
     "output_type": "stream",
     "text": [
      "Maximum value: 7654\n"
     ]
    }
   ],
   "source": [
    "# Find the maximum value in a list of numbers\n",
    "numbers = list(map(int, input(\"Enter numbers separated by space: \").split()))\n",
    "max_value = max(numbers)\n",
    "print(\"Maximum value:\", max_value)\n"
   ]
  },
  {
   "cell_type": "code",
   "execution_count": 16,
   "metadata": {},
   "outputs": [
    {
     "name": "stdout",
     "output_type": "stream",
     "text": [
      "'aziza' is a palindrome\n"
     ]
    }
   ],
   "source": [
    "# Program to check if a word is a palindrome\n",
    "word = input(\"Enter a word: \")\n",
    "if word == word[::-1]:\n",
    "    print(f\"'{word}' is a palindrome\")\n",
    "else:\n",
    "    print(f\"'{word}' is not a palindrome\")\n"
   ]
  },
  {
   "cell_type": "code",
   "execution_count": 17,
   "metadata": {},
   "outputs": [
    {
     "name": "stdout",
     "output_type": "stream",
     "text": [
      "Domain: gmail.com\n"
     ]
    }
   ],
   "source": [
    "#Extract and print the domain from an email address\n",
    "email = input(\"Enter an email address: \")\n",
    "domain = email.split('@')[1]\n",
    "print(\"Domain:\", domain)\n",
    "\n"
   ]
  },
  {
   "cell_type": "code",
   "execution_count": 18,
   "metadata": {},
   "outputs": [
    {
     "name": "stdout",
     "output_type": "stream",
     "text": [
      "Random password: >V@fqO$\n"
     ]
    }
   ],
   "source": [
    "# Program to generate a random password\n",
    "import random\n",
    "import string\n",
    "\n",
    "length = int(input(\"Enter the password length: \"))\n",
    "\n",
    "characters = string.ascii_letters + string.digits + string.punctuation\n",
    "password = ''.join(random.choice(characters) for i in range(length))\n",
    "\n",
    "print(\"Random password:\", password)\n"
   ]
  }
 ],
 "metadata": {
  "kernelspec": {
   "display_name": "Python 3",
   "language": "python",
   "name": "python3"
  },
  "language_info": {
   "codemirror_mode": {
    "name": "ipython",
    "version": 3
   },
   "file_extension": ".py",
   "mimetype": "text/x-python",
   "name": "python",
   "nbconvert_exporter": "python",
   "pygments_lexer": "ipython3",
   "version": "3.12.8"
  }
 },
 "nbformat": 4,
 "nbformat_minor": 2
}
