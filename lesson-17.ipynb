{
 "cells": [
  {
   "cell_type": "code",
   "execution_count": 1,
   "metadata": {},
   "outputs": [
    {
     "name": "stdout",
     "output_type": "stream",
     "text": [
      "  first_name  age           City\n",
      "0      Alice   25       New York\n",
      "1        Bob   30  San Francisco\n",
      "2    Charlie   35    Los Angeles\n",
      "Mean Age: 32.5\n",
      "  first_name           City\n",
      "0      Alice       New York\n",
      "1        Bob  San Francisco\n",
      "2    Charlie    Los Angeles\n",
      "3      David        Chicago\n",
      "  first_name  age           City  Salary\n",
      "0      Alice   25       New York   64423\n",
      "1        Bob   30  San Francisco   79359\n",
      "2    Charlie   35    Los Angeles   93700\n",
      "3      David   40        Chicago   77059\n",
      "             age        Salary\n",
      "count   4.000000      4.000000\n",
      "mean   32.500000  78635.250000\n",
      "std     6.454972  11999.209984\n",
      "min    25.000000  64423.000000\n",
      "25%    28.750000  73900.000000\n",
      "50%    32.500000  78209.000000\n",
      "75%    36.250000  82944.250000\n",
      "max    40.000000  93700.000000\n"
     ]
    }
   ],
   "source": [
    "#1\n",
    "import pandas as pd\n",
    "import numpy as np\n",
    "\n",
    "data = {\n",
    "    'First Name': ['Alice', 'Bob', 'Charlie', 'David'],\n",
    "    'Age': [25, 30, 35, 40],\n",
    "    'City': ['New York', 'San Francisco', 'Los Angeles', 'Chicago']\n",
    "}\n",
    "df = pd.DataFrame(data)\n",
    "\n",
    "df.rename(columns={'First Name': 'first_name', 'Age': 'age'}, inplace=True)\n",
    "\n",
    "print(df.head(3))\n",
    "\n",
    "mean_age = df['age'].mean()\n",
    "print(f\"Mean Age: {mean_age}\")\n",
    "\n",
    "print(df[['first_name', 'City']])\n",
    "\n",
    "df['Salary'] = np.random.randint(40000, 100000, size=len(df))\n",
    "print(df)\n",
    "\n",
    "print(df.describe())\n"
   ]
  },
  {
   "cell_type": "code",
   "execution_count": 2,
   "metadata": {},
   "outputs": [
    {
     "name": "stdout",
     "output_type": "stream",
     "text": [
      "Max Sales: 8000, Max Expenses: 4500\n",
      "Min Sales: 5000, Min Expenses: 3000\n",
      "Average Sales: 6625.0, Average Expenses: 3750.0\n"
     ]
    }
   ],
   "source": [
    "#2\n",
    "sales_and_expenses = pd.DataFrame({\n",
    "    'Month': ['Jan', 'Feb', 'Mar', 'Apr'],\n",
    "    'Sales': [5000, 6000, 7500, 8000],\n",
    "    'Expenses': [3000, 3500, 4000, 4500]\n",
    "})\n",
    "\n",
    "max_sales = sales_and_expenses['Sales'].max()\n",
    "max_expenses = sales_and_expenses['Expenses'].max()\n",
    "print(f\"Max Sales: {max_sales}, Max Expenses: {max_expenses}\")\n",
    "\n",
    "min_sales = sales_and_expenses['Sales'].min()\n",
    "min_expenses = sales_and_expenses['Expenses'].min()\n",
    "print(f\"Min Sales: {min_sales}, Min Expenses: {min_expenses}\")\n",
    "\n",
    "avg_sales = sales_and_expenses['Sales'].mean()\n",
    "avg_expenses = sales_and_expenses['Expenses'].mean()\n",
    "print(f\"Average Sales: {avg_sales}, Average Expenses: {avg_expenses}\")\n"
   ]
  },
  {
   "cell_type": "code",
   "execution_count": 3,
   "metadata": {},
   "outputs": [
    {
     "name": "stdout",
     "output_type": "stream",
     "text": [
      "Maximum Expenses:\n",
      " Category\n",
      "Rent             1500\n",
      "Utilities         250\n",
      "Groceries         350\n",
      "Entertainment     180\n",
      "dtype: int64\n",
      "Minimum Expenses:\n",
      " Category\n",
      "Rent             1200\n",
      "Utilities         200\n",
      "Groceries         300\n",
      "Entertainment     150\n",
      "dtype: int64\n",
      "Average Expenses:\n",
      " Category\n",
      "Rent             1350.0\n",
      "Utilities         227.5\n",
      "Groceries         325.0\n",
      "Entertainment     165.0\n",
      "dtype: float64\n"
     ]
    }
   ],
   "source": [
    "#3\n",
    "expenses = pd.DataFrame({\n",
    "    'Category': ['Rent', 'Utilities', 'Groceries', 'Entertainment'],\n",
    "    'January': [1200, 200, 300, 150],\n",
    "    'February': [1300, 220, 320, 160],\n",
    "    'March': [1400, 240, 330, 170],\n",
    "    'April': [1500, 250, 350, 180]\n",
    "})\n",
    "\n",
    "expenses.set_index('Category', inplace=True)\n",
    "\n",
    "max_expenses = expenses.max(axis=1)\n",
    "print(\"Maximum Expenses:\\n\", max_expenses)\n",
    "\n",
    "min_expenses = expenses.min(axis=1)\n",
    "print(\"Minimum Expenses:\\n\", min_expenses)\n",
    "\n",
    "avg_expenses = expenses.mean(axis=1)\n",
    "print(\"Average Expenses:\\n\", avg_expenses)\n"
   ]
  }
 ],
 "metadata": {
  "kernelspec": {
   "display_name": "Python 3",
   "language": "python",
   "name": "python3"
  },
  "language_info": {
   "codemirror_mode": {
    "name": "ipython",
    "version": 3
   },
   "file_extension": ".py",
   "mimetype": "text/x-python",
   "name": "python",
   "nbconvert_exporter": "python",
   "pygments_lexer": "ipython3",
   "version": "3.12.8"
  }
 },
 "nbformat": 4,
 "nbformat_minor": 2
}
